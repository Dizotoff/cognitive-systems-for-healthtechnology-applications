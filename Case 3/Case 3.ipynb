{
 "cells": [
  {
   "cell_type": "markdown",
   "metadata": {},
   "source": [
    "# Case 3. Patient Drug Review\n",
    "Name: Dmytro Izotov<br>\n",
    "Last edited: 17.03.2019<br>\n",
    "Cognitive Systems for Health Technology Applications<br>\n",
    "[Helsinki Metropolia University of Applied Sciences](http://www.metropolia.fi/en/)<br>"
   ]
  },
  {
   "cell_type": "markdown",
   "metadata": {},
   "source": [
    "## 1. Objectives"
   ]
  },
  {
   "cell_type": "markdown",
   "metadata": {},
   "source": [
    "The aim of this assignment is to learn to use neural networks to process text data and predict ratings associated to the text. The main objective is to use recurrent and convolutional neural networks to create a predictor for a collection of patient drug reviews extracted from Drugs.com. Drugs.com is a comprehensive source of drug information online."
   ]
  },
  {
   "cell_type": "markdown",
   "metadata": {},
   "source": [
    "## 2. Required libraries"
   ]
  },
  {
   "cell_type": "code",
   "execution_count": 20,
   "metadata": {},
   "outputs": [],
   "source": [
    "import pandas as pd\n",
    "import numpy as np\n",
    "import time\n",
    "import matplotlib.pyplot as plt\n",
    "\n",
    "from keras.utils import to_categorical\n",
    "from keras.preprocessing.text import Tokenizer\n",
    "from keras.preprocessing.sequence import pad_sequences\n",
    "from keras.models import Sequential\n",
    "from keras.models import Sequential\n",
    "from keras.layers import Flatten, Dense, Embedding, Conv1D, MaxPooling1D, GRU\n",
    "from sklearn.metrics import accuracy_score, confusion_matrix"
   ]
  },
  {
   "cell_type": "markdown",
   "metadata": {},
   "source": [
    "## 3. Data description and preprocessing"
   ]
  },
  {
   "cell_type": "markdown",
   "metadata": {},
   "source": [
    "I'm using preprocessed [dataset](https://www.kaggle.com/jessicali9530/kuc-hackathon-winter-2018/home)<br> These are two files drugsComTrain_raw.csv and drugsComTest_raw.csv. One for testing and one for training. Both of them contain 7 columns (Id, DrugName, Condition, Review, Rating, Date, UsefulCount). I'm going to use only review and rating columns. Lets preprocesse them:"
   ]
  },
  {
   "cell_type": "code",
   "execution_count": 3,
   "metadata": {},
   "outputs": [
    {
     "data": {
      "text/html": [
       "<div>\n",
       "<style scoped>\n",
       "    .dataframe tbody tr th:only-of-type {\n",
       "        vertical-align: middle;\n",
       "    }\n",
       "\n",
       "    .dataframe tbody tr th {\n",
       "        vertical-align: top;\n",
       "    }\n",
       "\n",
       "    .dataframe thead th {\n",
       "        text-align: right;\n",
       "    }\n",
       "</style>\n",
       "<table border=\"1\" class=\"dataframe\">\n",
       "  <thead>\n",
       "    <tr style=\"text-align: right;\">\n",
       "      <th></th>\n",
       "      <th>uniqueID</th>\n",
       "      <th>drugName</th>\n",
       "      <th>condition</th>\n",
       "      <th>review</th>\n",
       "      <th>rating</th>\n",
       "      <th>date</th>\n",
       "      <th>usefulCount</th>\n",
       "    </tr>\n",
       "  </thead>\n",
       "  <tbody>\n",
       "    <tr>\n",
       "      <th>0</th>\n",
       "      <td>206461</td>\n",
       "      <td>Valsartan</td>\n",
       "      <td>Left Ventricular Dysfunction</td>\n",
       "      <td>\"It has no side effect, I take it in combinati...</td>\n",
       "      <td>9</td>\n",
       "      <td>20-May-12</td>\n",
       "      <td>27</td>\n",
       "    </tr>\n",
       "    <tr>\n",
       "      <th>1</th>\n",
       "      <td>95260</td>\n",
       "      <td>Guanfacine</td>\n",
       "      <td>ADHD</td>\n",
       "      <td>\"My son is halfway through his fourth week of ...</td>\n",
       "      <td>8</td>\n",
       "      <td>27-Apr-10</td>\n",
       "      <td>192</td>\n",
       "    </tr>\n",
       "    <tr>\n",
       "      <th>2</th>\n",
       "      <td>92703</td>\n",
       "      <td>Lybrel</td>\n",
       "      <td>Birth Control</td>\n",
       "      <td>\"I used to take another oral contraceptive, wh...</td>\n",
       "      <td>5</td>\n",
       "      <td>14-Dec-09</td>\n",
       "      <td>17</td>\n",
       "    </tr>\n",
       "    <tr>\n",
       "      <th>3</th>\n",
       "      <td>138000</td>\n",
       "      <td>Ortho Evra</td>\n",
       "      <td>Birth Control</td>\n",
       "      <td>\"This is my first time using any form of birth...</td>\n",
       "      <td>8</td>\n",
       "      <td>3-Nov-15</td>\n",
       "      <td>10</td>\n",
       "    </tr>\n",
       "    <tr>\n",
       "      <th>4</th>\n",
       "      <td>35696</td>\n",
       "      <td>Buprenorphine / naloxone</td>\n",
       "      <td>Opiate Dependence</td>\n",
       "      <td>\"Suboxone has completely turned my life around...</td>\n",
       "      <td>9</td>\n",
       "      <td>27-Nov-16</td>\n",
       "      <td>37</td>\n",
       "    </tr>\n",
       "  </tbody>\n",
       "</table>\n",
       "</div>"
      ],
      "text/plain": [
       "   uniqueID                  drugName                     condition  \\\n",
       "0    206461                 Valsartan  Left Ventricular Dysfunction   \n",
       "1     95260                Guanfacine                          ADHD   \n",
       "2     92703                    Lybrel                 Birth Control   \n",
       "3    138000                Ortho Evra                 Birth Control   \n",
       "4     35696  Buprenorphine / naloxone             Opiate Dependence   \n",
       "\n",
       "                                              review  rating       date  \\\n",
       "0  \"It has no side effect, I take it in combinati...       9  20-May-12   \n",
       "1  \"My son is halfway through his fourth week of ...       8  27-Apr-10   \n",
       "2  \"I used to take another oral contraceptive, wh...       5  14-Dec-09   \n",
       "3  \"This is my first time using any form of birth...       8   3-Nov-15   \n",
       "4  \"Suboxone has completely turned my life around...       9  27-Nov-16   \n",
       "\n",
       "   usefulCount  \n",
       "0           27  \n",
       "1          192  \n",
       "2           17  \n",
       "3           10  \n",
       "4           37  "
      ]
     },
     "execution_count": 3,
     "metadata": {},
     "output_type": "execute_result"
    }
   ],
   "source": [
    "train = pd.read_csv(r\"C://Users//Dizotoff//Desktop//drugsComTrain_raw.csv\")\n",
    "test = pd.read_csv(r\"C://Users//Dizotoff//Desktop//drugsComTest_raw.csv\")\n",
    "train.head()"
   ]
  },
  {
   "cell_type": "code",
   "execution_count": 4,
   "metadata": {},
   "outputs": [
    {
     "name": "stdout",
     "output_type": "stream",
     "text": [
      "[[0. 1. 0.]\n",
      " [0. 1. 0.]\n",
      " [1. 0. 0.]\n",
      " ...\n",
      " [0. 0. 1.]\n",
      " [0. 1. 0.]\n",
      " [0. 1. 0.]]\n"
     ]
    }
   ],
   "source": [
    "#Lets convert rating to 3 types of one_hot_labels which correspond to it (negative, neutral, positive)\n",
    "train['rating'] = -1*(train['rating'] <= 4) + 1*(train['rating'] >= 7)\n",
    "one_hot_labels_train = to_categorical(train['rating'], num_classes = 3)\n",
    "\n",
    "test['rating'] = -1*(test['rating'] <= 4) + 1*(test['rating'] >= 7)\n",
    "one_hot_labels_test = to_categorical(test['rating'], num_classes = 3) \n",
    "\n",
    "print(one_hot_labels_train)"
   ]
  },
  {
   "cell_type": "code",
   "execution_count": 5,
   "metadata": {},
   "outputs": [],
   "source": [
    "# Labels now ready, lets grab review column and tokenize it. I decided to stick to 1000 words because that is a \n",
    "# popular solution for this kind of a problem\n",
    "\n",
    "samples_train = train['review']\n",
    "samples_test = test['review']\n",
    "\n",
    "tokenizer = Tokenizer(num_words = 1000)\n",
    "\n",
    "tokenizer.fit_on_texts(samples_train)\n",
    "sequences_train = tokenizer.texts_to_sequences(samples_train)\n",
    "x_train = pad_sequences(sequences_train, maxlen = 500)\n",
    "\n",
    "tokenizer = Tokenizer(num_words = 1000)\n",
    "\n",
    "tokenizer.fit_on_texts(samples_test)\n",
    "sequences_test = tokenizer.texts_to_sequences(samples_test)\n",
    "x_test = pad_sequences(sequences_test, maxlen = 500)"
   ]
  },
  {
   "cell_type": "markdown",
   "metadata": {},
   "source": [
    "## 4. Modeling and compilation\n"
   ]
  },
  {
   "cell_type": "markdown",
   "metadata": {},
   "source": [
    "I decided to test two models."
   ]
  },
  {
   "cell_type": "markdown",
   "metadata": {},
   "source": [
    "#### First model"
   ]
  },
  {
   "cell_type": "code",
   "execution_count": 16,
   "metadata": {},
   "outputs": [
    {
     "name": "stdout",
     "output_type": "stream",
     "text": [
      "_________________________________________________________________\n",
      "Layer (type)                 Output Shape              Param #   \n",
      "=================================================================\n",
      "embedding_1 (Embedding)      (None, 500, 64)           64000     \n",
      "_________________________________________________________________\n",
      "flatten_1 (Flatten)          (None, 32000)             0         \n",
      "_________________________________________________________________\n",
      "dense_1 (Dense)              (None, 32)                1024032   \n",
      "_________________________________________________________________\n",
      "dense_2 (Dense)              (None, 3)                 99        \n",
      "=================================================================\n",
      "Total params: 1,088,131\n",
      "Trainable params: 1,088,131\n",
      "Non-trainable params: 0\n",
      "_________________________________________________________________\n"
     ]
    }
   ],
   "source": [
    "# First simple model has 64 embedding layer and 500 sequence length. I'm using relu activation because it's \n",
    "# not expensive like sigmoid or TanH, learns faster, avoids the vanishing gradient problem. That is binary regression\n",
    "# problem, so softmax activation function at output layer.\n",
    "\n",
    "model = Sequential()\n",
    "model.add(Embedding(1000, 64, input_length = 500))\n",
    "model.add(Flatten())\n",
    "model.add(Dense(32, activation = 'relu'))\n",
    "model.add(Dense(3, activation = 'softmax'))\n",
    "\n",
    "model.compile(optimizer = 'rmsprop', loss = 'categorical_crossentropy', metrics = ['acc'])\n",
    "model.summary()\n"
   ]
  },
  {
   "cell_type": "markdown",
   "metadata": {},
   "source": [
    "#### Second model"
   ]
  },
  {
   "cell_type": "code",
   "execution_count": 13,
   "metadata": {},
   "outputs": [
    {
     "name": "stdout",
     "output_type": "stream",
     "text": [
      "_________________________________________________________________\n",
      "Layer (type)                 Output Shape              Param #   \n",
      "=================================================================\n",
      "embedding_5 (Embedding)      (None, 500, 32)           32000     \n",
      "_________________________________________________________________\n",
      "conv1d_6 (Conv1D)            (None, 492, 32)           9248      \n",
      "_________________________________________________________________\n",
      "max_pooling1d_3 (MaxPooling1 (None, 98, 32)            0         \n",
      "_________________________________________________________________\n",
      "conv1d_7 (Conv1D)            (None, 90, 32)            9248      \n",
      "_________________________________________________________________\n",
      "gru_1 (GRU)                  (None, 32)                6240      \n",
      "_________________________________________________________________\n",
      "dense_1 (Dense)              (None, 1024)              33792     \n",
      "_________________________________________________________________\n",
      "dense_2 (Dense)              (None, 3)                 3075      \n",
      "=================================================================\n",
      "Total params: 93,603\n",
      "Trainable params: 93,603\n",
      "Non-trainable params: 0\n",
      "_________________________________________________________________\n"
     ]
    }
   ],
   "source": [
    "# Second model is more complicated. It includes embedding layer, convnet and GRU layers to increase the language \n",
    "# \"understanding\" of the network\n",
    "model_2 = Sequential()\n",
    "model_2.add(Embedding(1000, 32, input_length=500))\n",
    "model_2.add(Conv1D(32, 9, activation='relu'))\n",
    "model_2.add(MaxPooling1D(5))\n",
    "model_2.add(Conv1D(32, 9, activation='relu'))\n",
    "model_2.add(GRU(32, dropout=0.1, recurrent_dropout=0.5))\n",
    "model_2.add(Dense(1024, activation = 'relu'))\n",
    "model_2.add(Dense(3, activation = 'softmax'))\n",
    "\n",
    "model_2.compile(optimizer = 'rmsprop',\n",
    "             loss = 'categorical_crossentropy',\n",
    "             metrics = ['accuracy'])\n",
    "\n",
    "model_2.summary()"
   ]
  },
  {
   "cell_type": "markdown",
   "metadata": {},
   "source": [
    "## 5. Training and Validation"
   ]
  },
  {
   "cell_type": "markdown",
   "metadata": {},
   "source": [
    "#### First model"
   ]
  },
  {
   "cell_type": "code",
   "execution_count": 19,
   "metadata": {},
   "outputs": [
    {
     "name": "stdout",
     "output_type": "stream",
     "text": [
      "Train on 129037 samples, validate on 32260 samples\n",
      "Epoch 1/10\n",
      "129037/129037 [==============================] - 246s 2ms/step - loss: 0.6176 - acc: 0.7653 - val_loss: 0.5992 - val_acc: 0.7759\n",
      "Epoch 2/10\n",
      "129037/129037 [==============================] - 241s 2ms/step - loss: 0.5336 - acc: 0.7973 - val_loss: 0.5933 - val_acc: 0.7728\n",
      "Epoch 3/10\n",
      "129037/129037 [==============================] - 242s 2ms/step - loss: 0.4686 - acc: 0.8253 - val_loss: 0.6032 - val_acc: 0.7835\n",
      "Epoch 4/10\n",
      "129037/129037 [==============================] - 246s 2ms/step - loss: 0.4189 - acc: 0.8470 - val_loss: 0.6397 - val_acc: 0.7941\n",
      "Epoch 5/10\n",
      "129037/129037 [==============================] - 254s 2ms/step - loss: 0.3791 - acc: 0.8617 - val_loss: 0.7410 - val_acc: 0.7956\n",
      "Epoch 6/10\n",
      "129037/129037 [==============================] - 254s 2ms/step - loss: 0.3461 - acc: 0.8771 - val_loss: 0.7134 - val_acc: 0.7919\n",
      "Epoch 7/10\n",
      "129037/129037 [==============================] - 251s 2ms/step - loss: 0.3169 - acc: 0.8884 - val_loss: 0.7402 - val_acc: 0.7766\n",
      "Epoch 8/10\n",
      "129037/129037 [==============================] - 254s 2ms/step - loss: 0.2880 - acc: 0.8988 - val_loss: 0.8804 - val_acc: 0.7583\n",
      "Epoch 9/10\n",
      "129037/129037 [==============================] - 239s 2ms/step - loss: 0.2711 - acc: 0.9065 - val_loss: 0.8985 - val_acc: 0.8106\n",
      "Epoch 10/10\n",
      "129037/129037 [==============================] - 239s 2ms/step - loss: 0.2539 - acc: 0.9134 - val_loss: 0.9633 - val_acc: 0.7423\n",
      "Elapsed time: 2467.06 seconds\n"
     ]
    }
   ],
   "source": [
    "#Fist model\n",
    "t1 = time.time()\n",
    "history = model.fit(x_train, one_hot_labels_train,\n",
    "                   epochs = 10,\n",
    "                   batch_size = 32,\n",
    "                   validation_split = 0.2)\n",
    "t2 = time.time()\n",
    "print('Elapsed time: {:.2f} seconds'.format((t2-t1)))"
   ]
  },
  {
   "cell_type": "markdown",
   "metadata": {},
   "source": [
    "#### Second model"
   ]
  },
  {
   "cell_type": "code",
   "execution_count": 14,
   "metadata": {},
   "outputs": [
    {
     "name": "stdout",
     "output_type": "stream",
     "text": [
      "Train on 129037 samples, validate on 32260 samples\n",
      "Epoch 1/10\n",
      "129037/129037 [==============================] - 756s 6ms/step - loss: 0.6365 - acc: 0.7579 - val_loss: 0.5740 - val_acc: 0.7820\n",
      "Epoch 2/10\n",
      "129037/129037 [==============================] - 749s 6ms/step - loss: 0.5529 - acc: 0.7957 - val_loss: 0.5632 - val_acc: 0.7849\n",
      "Epoch 3/10\n",
      "129037/129037 [==============================] - 748s 6ms/step - loss: 0.5176 - acc: 0.8082 - val_loss: 0.5622 - val_acc: 0.7903\n",
      "Epoch 4/10\n",
      "129037/129037 [==============================] - 749s 6ms/step - loss: 0.5010 - acc: 0.8157 - val_loss: 0.5466 - val_acc: 0.7964\n",
      "Epoch 5/10\n",
      "129037/129037 [==============================] - 758s 6ms/step - loss: 0.4903 - acc: 0.8211 - val_loss: 0.5506 - val_acc: 0.7975\n",
      "Epoch 6/10\n",
      "129037/129037 [==============================] - 754s 6ms/step - loss: 0.4840 - acc: 0.8245 - val_loss: 0.6080 - val_acc: 0.7782\n",
      "Epoch 7/10\n",
      "129037/129037 [==============================] - 753s 6ms/step - loss: 0.4815 - acc: 0.8272 - val_loss: 0.5831 - val_acc: 0.8006\n",
      "Epoch 8/10\n",
      "129037/129037 [==============================] - 754s 6ms/step - loss: 0.4823 - acc: 0.8276 - val_loss: 0.7128 - val_acc: 0.7543\n",
      "Epoch 9/10\n",
      "129037/129037 [==============================] - 762s 6ms/step - loss: 0.4917 - acc: 0.8294 - val_loss: 0.6465 - val_acc: 0.7808\n",
      "Epoch 10/10\n",
      "129037/129037 [==============================] - 755s 6ms/step - loss: 0.5038 - acc: 0.8295 - val_loss: 0.6420 - val_acc: 0.7943\n",
      "Elapsed time: 7538.94 seconds\n"
     ]
    }
   ],
   "source": [
    "#Second model\n",
    "t1 = time.time()\n",
    "history_2 = model_2.fit(x_train, one_hot_labels_train,\n",
    "                   epochs = 10,\n",
    "                   batch_size = 32,\n",
    "                   validation_split = 0.2)\n",
    "t2 = time.time()\n",
    "print('Elapsed time: {:.2f} seconds'.format((t2-t1)))"
   ]
  },
  {
   "cell_type": "markdown",
   "metadata": {},
   "source": [
    "## 6. Evaluation"
   ]
  },
  {
   "cell_type": "markdown",
   "metadata": {},
   "source": [
    "#### First model"
   ]
  },
  {
   "cell_type": "markdown",
   "metadata": {},
   "source": []
  },
  {
   "cell_type": "code",
   "execution_count": 23,
   "metadata": {},
   "outputs": [
    {
     "data": {
      "text/plain": [
       "<Figure size 432x288 with 0 Axes>"
      ]
     },
     "execution_count": 23,
     "metadata": {},
     "output_type": "execute_result"
    },
    {
     "data": {
      "image/png": "[encoded data removed]",
      "text/plain": [
       "<Figure size 432x288 with 1 Axes>"
      ]
     },
     "metadata": {
      "needs_background": "light"
     },
     "output_type": "display_data"
    },
    {
     "data": {
      "image/png": "[encoded data removed]",
      "text/plain": [
       "<Figure size 432x288 with 1 Axes>"
      ]
     },
     "metadata": {
      "needs_background": "light"
     },
     "output_type": "display_data"
    },
    {
     "data": {
      "text/plain": [
       "<Figure size 432x288 with 0 Axes>"
      ]
     },
     "metadata": {},
     "output_type": "display_data"
    }
   ],
   "source": [
    "#First model\n",
    "acc = history.history['acc']\n",
    "val_acc = history.history['val_acc']\n",
    "loss = history.history['loss']\n",
    "val_loss = history.history['val_loss']\n",
    "epochs = range(len(acc))\n",
    "\n",
    "plt.plot(epochs, loss, 'ro', label='Train loss')\n",
    "plt.plot(epochs, val_loss, 'r', label='Val loss')\n",
    "plt.title('Training and validation loss')\n",
    "plt.legend()\n",
    "plt.figure()\n",
    "\n",
    "plt.plot(epochs, acc, 'ro', label='Train acc')\n",
    "plt.plot(epochs, val_acc, 'r', label='Val acc')\n",
    "plt.title('Training and validation accuracy')\n",
    "plt.legend()\n",
    "plt.figure()"
   ]
  },
  {
   "cell_type": "markdown",
   "metadata": {},
   "source": [
    "#### Second model"
   ]
  },
  {
   "cell_type": "code",
   "execution_count": 15,
   "metadata": {},
   "outputs": [
    {
     "data": {
      "text/plain": [
       "<Figure size 432x288 with 0 Axes>"
      ]
     },
     "execution_count": 15,
     "metadata": {},
     "output_type": "execute_result"
    },
    {
     "data": {
      "image/png": "[encoded data removed]",
      "text/plain": [
       "<Figure size 432x288 with 1 Axes>"
      ]
     },
     "metadata": {
      "needs_background": "light"
     },
     "output_type": "display_data"
    },
    {
     "data": {
      "image/png": "[encoded data removed]",
      "text/plain": [
       "<Figure size 432x288 with 1 Axes>"
      ]
     },
     "metadata": {
      "needs_background": "light"
     },
     "output_type": "display_data"
    },
    {
     "data": {
      "text/plain": [
       "<Figure size 432x288 with 0 Axes>"
      ]
     },
     "metadata": {},
     "output_type": "display_data"
    }
   ],
   "source": [
    "#Second model\n",
    "acc = history_2.history['acc']\n",
    "val_acc = history_2.history['val_acc']\n",
    "loss = history_2.history['loss']\n",
    "val_loss = history_2.history['val_loss']\n",
    "epochs = range(len(acc))\n",
    "\n",
    "plt.plot(epochs, loss, 'ro', label='Train loss')\n",
    "plt.plot(epochs, val_loss, 'r', label='Val loss')\n",
    "plt.title('Training and validation loss')\n",
    "plt.legend()\n",
    "plt.figure()\n",
    "\n",
    "plt.plot(epochs, acc, 'ro', label='Train acc')\n",
    "plt.plot(epochs, val_acc, 'r', label='Val acc')\n",
    "plt.title('Training and validation accuracy')\n",
    "plt.legend()\n",
    "plt.figure()"
   ]
  },
  {
   "cell_type": "markdown",
   "metadata": {},
   "source": [
    "## 7. Results and Discussion"
   ]
  },
  {
   "cell_type": "code",
   "execution_count": 28,
   "metadata": {},
   "outputs": [
    {
     "name": "stdout",
     "output_type": "stream",
     "text": [
      "53766/53766 [==============================] - 92s 2ms/step\n",
      "Accuracy: 0.6270\n"
     ]
    }
   ],
   "source": [
    "loss,acc = model_2.evaluate(x_test, one_hot_labels_test)\n",
    "print(\"Accuracy: {:.4f}\".format(acc))"
   ]
  },
  {
   "cell_type": "markdown",
   "metadata": {},
   "source": [
    "The first model has overfitted quickly, so I decided to stick to the second model which has final accuracy of 62% (tested with test dataset), it's not the great accuracy value, but I thing that it represents a futher direction in which I could act. Tinkering with convnet and GRU layers could help to give better result. Also it seems that the dataset is quite imbalances which obviously has the impact on the final accuracy. \n",
    "Unfortunatelly, it takes too much time for me to train the networks, so I cant experiment more.   "
   ]
  },
  {
   "cell_type": "code",
   "execution_count": null,
   "metadata": {},
   "outputs": [],
   "source": []
  }
 ],
 "metadata": {
  "kernelspec": {
   "display_name": "Python 3",
   "language": "python",
   "name": "python3"
  },
  "language_info": {
   "codemirror_mode": {
    "name": "ipython",
    "version": 3
   },
   "file_extension": ".py",
   "mimetype": "text/x-python",
   "name": "python",
   "nbconvert_exporter": "python",
   "pygments_lexer": "ipython3",
   "version": "3.6.7"
  }
 },
 "nbformat": 4,
 "nbformat_minor": 2
}
