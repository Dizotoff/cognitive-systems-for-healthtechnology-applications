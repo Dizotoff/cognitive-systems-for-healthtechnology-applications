{
 "cells": [
  {
   "cell_type": "markdown",
   "metadata": {},
   "source": [
    "# Case 2. Diabetic Retinopathy Analysis\n",
    "Name: Dmytro Izotov<br>\n",
    "Last edited: 26.02.2019<br>\n",
    "Cognitive Systems for Health Technology Applications<br>\n",
    "[Helsinki Metropolia University of Applied Sciences](http://www.metropolia.fi/en/)<br>\n",
    "Based on Sakari's [demo](https://www.kaggle.com/sakarilukkarinen/demo-04-binary-classifier)"
   ]
  },
  {
   "cell_type": "markdown",
   "metadata": {},
   "source": [
    "## 1. Objectives"
   ]
  },
  {
   "cell_type": "markdown",
   "metadata": {},
   "source": [
    "The aim of this assignment is to learn to use convolutional neural networks to classify medical\n",
    "images. The main objective is to use convolutional neural networks to create a binary classifier for diabetic retinopathy images with the use of provided [DATA](https://github.com/Nomikxyz/retinopathy-dataset)"
   ]
  },
  {
   "cell_type": "markdown",
   "metadata": {},
   "source": [
    "## 2. Required libraries"
   ]
  },
  {
   "cell_type": "code",
   "execution_count": 1,
   "metadata": {},
   "outputs": [
    {
     "name": "stderr",
     "output_type": "stream",
     "text": [
      "Using TensorFlow backend.\n"
     ]
    }
   ],
   "source": [
    "import pandas as pd\n",
    "import numpy as np\n",
    "from keras.preprocessing.image import ImageDataGenerator\n",
    "from keras import Sequential\n",
    "from keras.layers import Conv2D, Activation, MaxPooling2D, Dropout, Flatten, Dense\n",
    "from keras import optimizers\n",
    "from time import time, localtime, strftime\n",
    "import matplotlib.pyplot as plt\n",
    "import numpy as np\n",
    "from sklearn.metrics import confusion_matrix, cohen_kappa_score, classification_report\n",
    "from sklearn.metrics import accuracy_score\n",
    "from sklearn.metrics import roc_curve"
   ]
  },
  {
   "cell_type": "markdown",
   "metadata": {},
   "source": [
    "## 3. Data description and preprocessing"
   ]
  },
  {
   "cell_type": "code",
   "execution_count": 2,
   "metadata": {},
   "outputs": [
    {
     "data": {
      "text/html": [
       "<div>\n",
       "<style scoped>\n",
       "    .dataframe tbody tr th:only-of-type {\n",
       "        vertical-align: middle;\n",
       "    }\n",
       "\n",
       "    .dataframe tbody tr th {\n",
       "        vertical-align: top;\n",
       "    }\n",
       "\n",
       "    .dataframe thead th {\n",
       "        text-align: right;\n",
       "    }\n",
       "</style>\n",
       "<table border=\"1\" class=\"dataframe\">\n",
       "  <thead>\n",
       "    <tr style=\"text-align: right;\">\n",
       "      <th></th>\n",
       "      <th>level</th>\n",
       "      <th>MB</th>\n",
       "    </tr>\n",
       "  </thead>\n",
       "  <tbody>\n",
       "    <tr>\n",
       "      <th>count</th>\n",
       "      <td>35124.000000</td>\n",
       "      <td>35124.000000</td>\n",
       "    </tr>\n",
       "    <tr>\n",
       "      <th>mean</th>\n",
       "      <td>0.265232</td>\n",
       "      <td>0.139589</td>\n",
       "    </tr>\n",
       "    <tr>\n",
       "      <th>std</th>\n",
       "      <td>0.441463</td>\n",
       "      <td>0.017513</td>\n",
       "    </tr>\n",
       "    <tr>\n",
       "      <th>min</th>\n",
       "      <td>0.000000</td>\n",
       "      <td>0.023632</td>\n",
       "    </tr>\n",
       "    <tr>\n",
       "      <th>25%</th>\n",
       "      <td>0.000000</td>\n",
       "      <td>0.128283</td>\n",
       "    </tr>\n",
       "    <tr>\n",
       "      <th>50%</th>\n",
       "      <td>0.000000</td>\n",
       "      <td>0.140632</td>\n",
       "    </tr>\n",
       "    <tr>\n",
       "      <th>75%</th>\n",
       "      <td>1.000000</td>\n",
       "      <td>0.151493</td>\n",
       "    </tr>\n",
       "    <tr>\n",
       "      <th>max</th>\n",
       "      <td>1.000000</td>\n",
       "      <td>0.218401</td>\n",
       "    </tr>\n",
       "  </tbody>\n",
       "</table>\n",
       "</div>"
      ],
      "text/plain": [
       "              level            MB\n",
       "count  35124.000000  35124.000000\n",
       "mean       0.265232      0.139589\n",
       "std        0.441463      0.017513\n",
       "min        0.000000      0.023632\n",
       "25%        0.000000      0.128283\n",
       "50%        0.000000      0.140632\n",
       "75%        1.000000      0.151493\n",
       "max        1.000000      0.218401"
      ]
     },
     "execution_count": 2,
     "metadata": {},
     "output_type": "execute_result"
    }
   ],
   "source": [
    "# Here I'm using preprocessed data set from Kaggle.  \n",
    "\n",
    "df = pd.read_csv(r\"C://Users//Dizotoff//Desktop//isle//case 2//newTrainLabels.csv\")\n",
    "\n",
    "# Column 'level' correspond to the severity of the desease (level = diabetic retinopathy level (0 = Healthy, ..., \n",
    "# 4 = Severe), lets convert those to binaries\n",
    "\n",
    "df['level'] = 1*(df['level'] > 0)\n",
    "df.describe()"
   ]
  },
  {
   "cell_type": "code",
   "execution_count": 32,
   "metadata": {},
   "outputs": [
    {
     "data": {
      "text/plain": [
       "(2000, 3)"
      ]
     },
     "execution_count": 32,
     "metadata": {},
     "output_type": "execute_result"
    }
   ],
   "source": [
    "# Resample and take only 2000 first rows\n",
    "df = df.sample(n = 2000, random_state = 2019)\n",
    "df.shape"
   ]
  },
  {
   "cell_type": "code",
   "execution_count": 6,
   "metadata": {},
   "outputs": [
    {
     "name": "stdout",
     "output_type": "stream",
     "text": [
      "Found 1481 images belonging to 2 classes.\n",
      "Found 519 images belonging to 2 classes.\n"
     ]
    }
   ],
   "source": [
    "# Create image data generator\n",
    "from keras.preprocessing.image import ImageDataGenerator\n",
    "# Scale all images by 1/255 \n",
    "datagen = ImageDataGenerator(\n",
    "    rescale=1./255, \n",
    "    validation_split = 0.25)\n",
    "\n",
    "# Data generator for training\n",
    "train_generator = datagen.flow_from_dataframe(\n",
    "    dataframe = df, \n",
    "    directory = \"C://Users//Dizotoff//Desktop//isle//case 2//300_train\",\n",
    "    has_ext = False,\n",
    "    x_col = \"image\", \n",
    "    y_col = \"level\", \n",
    "    class_mode = \"binary\", \n",
    "    target_size = (100, 100), \n",
    "    batch_size = 16,\n",
    "    subset = 'training')\n",
    "\n",
    "# Data generator for validation\n",
    "valid_generator = datagen.flow_from_dataframe(\n",
    "    dataframe = df, \n",
    "    directory = \"C://Users//Dizotoff//Desktop//isle//case 2//300_train\",\n",
    "    has_ext = False,\n",
    "    x_col = \"image\", \n",
    "    y_col = \"level\", \n",
    "    class_mode = \"binary\", \n",
    "    target_size = (100, 100), \n",
    "    batch_size = 16,\n",
    "    subset = 'validation')"
   ]
  },
  {
   "cell_type": "markdown",
   "metadata": {},
   "source": [
    "## 4. Modeling and compilation\n",
    "\n",
    "\n"
   ]
  },
  {
   "cell_type": "code",
   "execution_count": 7,
   "metadata": {},
   "outputs": [
    {
     "name": "stdout",
     "output_type": "stream",
     "text": [
      "_________________________________________________________________\n",
      "Layer (type)                 Output Shape              Param #   \n",
      "=================================================================\n",
      "conv2d_1 (Conv2D)            (None, 98, 98, 32)        896       \n",
      "_________________________________________________________________\n",
      "max_pooling2d_1 (MaxPooling2 (None, 49, 49, 32)        0         \n",
      "_________________________________________________________________\n",
      "conv2d_2 (Conv2D)            (None, 47, 47, 32)        9248      \n",
      "_________________________________________________________________\n",
      "max_pooling2d_2 (MaxPooling2 (None, 23, 23, 32)        0         \n",
      "_________________________________________________________________\n",
      "conv2d_3 (Conv2D)            (None, 21, 21, 32)        9248      \n",
      "_________________________________________________________________\n",
      "max_pooling2d_3 (MaxPooling2 (None, 10, 10, 32)        0         \n",
      "_________________________________________________________________\n",
      "flatten_1 (Flatten)          (None, 3200)              0         \n",
      "_________________________________________________________________\n",
      "dense_1 (Dense)              (None, 512)               1638912   \n",
      "_________________________________________________________________\n",
      "dense_2 (Dense)              (None, 1)                 513       \n",
      "=================================================================\n",
      "Total params: 1,658,817\n",
      "Trainable params: 1,658,817\n",
      "Non-trainable params: 0\n",
      "_________________________________________________________________\n"
     ]
    }
   ],
   "source": [
    "# After some tinkering with model structure I decided to leave this variation with standart 32 filter of size 3x3.\n",
    "# Sigmoid on the last layer because that's a binary problem, no dropout. \n",
    "\n",
    "model = Sequential()\n",
    "model.add(Conv2D(32, (3, 3), activation = 'relu', input_shape = (100, 100, 3)))\n",
    "model.add(MaxPooling2D(pool_size = (2, 2)))\n",
    "model.add(Conv2D(32, (3, 3), activation = 'relu'))\n",
    "model.add(MaxPooling2D(pool_size = (2, 2)))\n",
    "model.add(Conv2D(32, (3, 3), activation = 'relu'))\n",
    "model.add(MaxPooling2D(pool_size = (2, 2)))\n",
    "model.add(Flatten())\n",
    "model.add(Dense(512, activation = 'relu'))\n",
    "model.add(Dense(1, activation = 'sigmoid'))\n",
    "\n",
    "sgd = optimizers.SGD(lr=0.01, decay=1e-6, momentum=0.9, nesterov=True)\n",
    "model.compile(optimizer = optimizers.RMSprop(lr=1e-4),\n",
    "             loss='binary_crossentropy', \n",
    "              metrics = [\"accuracy\"])\n",
    "\n",
    "model.summary()"
   ]
  },
  {
   "cell_type": "code",
   "execution_count": 8,
   "metadata": {},
   "outputs": [
    {
     "name": "stdout",
     "output_type": "stream",
     "text": [
      "time.struct_time(tm_year=2019, tm_mon=2, tm_mday=26, tm_hour=12, tm_min=1, tm_sec=28, tm_wday=1, tm_yday=57, tm_isdst=0)\n",
      "2019-02-26-120128\n"
     ]
    }
   ],
   "source": [
    "from time import time, localtime, strftime\n",
    "# Testing with localtime and strftime\n",
    "print(localtime())\n",
    "print(strftime('%Y-%m-%d-%H%M%S', localtime()))"
   ]
  },
  {
   "cell_type": "markdown",
   "metadata": {},
   "source": [
    "## 5. Training and Validation"
   ]
  },
  {
   "cell_type": "code",
   "execution_count": 9,
   "metadata": {},
   "outputs": [
    {
     "name": "stdout",
     "output_type": "stream",
     "text": [
      "Epoch 1/10\n",
      " - 68s - loss: 0.5952 - acc: 0.7228 - val_loss: 0.5650 - val_acc: 0.7500\n",
      "Epoch 2/10\n",
      " - 63s - loss: 0.5887 - acc: 0.7296 - val_loss: 0.5619 - val_acc: 0.7535\n",
      "Epoch 3/10\n",
      " - 62s - loss: 0.5907 - acc: 0.7240 - val_loss: 0.5796 - val_acc: 0.7376\n",
      "Epoch 4/10\n",
      " - 64s - loss: 0.5932 - acc: 0.7241 - val_loss: 0.5344 - val_acc: 0.7753\n",
      "Epoch 5/10\n",
      " - 64s - loss: 0.5733 - acc: 0.7379 - val_loss: 0.5982 - val_acc: 0.7336\n",
      "Epoch 6/10\n",
      " - 68s - loss: 0.5870 - acc: 0.7234 - val_loss: 0.5602 - val_acc: 0.7535\n",
      "Epoch 7/10\n",
      " - 66s - loss: 0.5812 - acc: 0.7289 - val_loss: 0.5599 - val_acc: 0.7614\n",
      "Epoch 8/10\n",
      " - 66s - loss: 0.5753 - acc: 0.7347 - val_loss: 0.5687 - val_acc: 0.7515\n",
      "Epoch 9/10\n",
      " - 63s - loss: 0.5912 - acc: 0.7165 - val_loss: 0.5698 - val_acc: 0.7515\n",
      "Epoch 10/10\n",
      " - 64s - loss: 0.5701 - acc: 0.7352 - val_loss: 0.5484 - val_acc: 0.7634\n",
      "\n",
      "Model saved to file: Case2-2019-02-26-120128.h5\n",
      "\n",
      "Total elapsed time for 10 epochs: 02:10:48\n",
      "Average time per epoch:             02:01:04\n"
     ]
    }
   ],
   "source": [
    "# Calculate how many batches are needed to go through whole train and validation set\n",
    "STEP_SIZE_TRAIN = train_generator.n // train_generator.batch_size\n",
    "STEP_SIZE_VALID = valid_generator.n // valid_generator.batch_size\n",
    "N = 10 # Number of epochs\n",
    "\n",
    "# Train and count time\n",
    "model_name = strftime('Case2-%Y-%m-%d-%H%M%S.h5', localtime())\n",
    "t1 = time()\n",
    "h = model.fit_generator(generator = train_generator,\n",
    "                    steps_per_epoch = STEP_SIZE_TRAIN,\n",
    "                    validation_data = valid_generator,\n",
    "                    validation_steps = STEP_SIZE_VALID,\n",
    "                    epochs = N,\n",
    "                    verbose = 2)\n",
    "t2 = time()\n",
    "elapsed_time = (t2 - t1)\n",
    "\n",
    "# Save the model\n",
    "model.save(model_name)\n",
    "print('')\n",
    "print('Model saved to file:', model_name)\n",
    "print('')\n",
    "\n",
    "# Print the total elapsed time and average time per epoch in format (hh:mm:ss)\n",
    "t_total = strftime('%H:%M:%S', localtime(t2 - t1))\n",
    "t_per_e = strftime('%H:%M:%S', localtime((t2 - t1)/N))\n",
    "print('Total elapsed time for {:d} epochs: {:s}'.format(N, t_total))\n",
    "print('Average time per epoch:             {:s}'.format(t_per_e))"
   ]
  },
  {
   "cell_type": "markdown",
   "metadata": {},
   "source": [
    "## 6. Evaluation"
   ]
  },
  {
   "cell_type": "code",
   "execution_count": 37,
   "metadata": {},
   "outputs": [
    {
     "data": {
      "text/plain": [
       "<Figure size 432x288 with 0 Axes>"
      ]
     },
     "execution_count": 37,
     "metadata": {},
     "output_type": "execute_result"
    },
    {
     "data": {
      "image/png": "[encoded data removed]",
      "text/plain": [
       "<Figure size 432x288 with 1 Axes>"
      ]
     },
     "metadata": {
      "needs_background": "light"
     },
     "output_type": "display_data"
    },
    {
     "data": {
      "image/png": "[encoded data removed]",
      "text/plain": [
       "<Figure size 432x288 with 1 Axes>"
      ]
     },
     "metadata": {
      "needs_background": "light"
     },
     "output_type": "display_data"
    },
    {
     "data": {
      "text/plain": [
       "<Figure size 432x288 with 0 Axes>"
      ]
     },
     "metadata": {},
     "output_type": "display_data"
    }
   ],
   "source": [
    "acc = h.history['acc']\n",
    "val_acc = h.history['val_acc']\n",
    "loss = h.history['loss']\n",
    "val_loss = h.history['val_loss']\n",
    "epochs = range(len(acc))\n",
    "\n",
    "plt.plot(epochs, loss, 'ro', label='Train loss')\n",
    "plt.plot(epochs, val_loss, 'r', label='Val loss')\n",
    "plt.title('Training and validation loss')\n",
    "plt.legend()\n",
    "plt.figure()\n",
    "\n",
    "plt.plot(epochs, acc, 'ro', label='Train acc')\n",
    "plt.plot(epochs, val_acc, 'r', label='Val acc')\n",
    "plt.title('Training and validation accuracy')\n",
    "plt.legend()\n",
    "plt.figure()"
   ]
  },
  {
   "cell_type": "markdown",
   "metadata": {},
   "source": [
    "## 7. Results and Discussion"
   ]
  },
  {
   "cell_type": "code",
   "execution_count": 13,
   "metadata": {},
   "outputs": [],
   "source": [
    "# Calculate the true and predicted values\n",
    "y_true = valid_generator.classes\n",
    "y_true = y_true[:16*20]\n",
    "predict = model.predict_generator(valid_generator, steps=20)\n",
    "y_pred = predict > 0.5\n"
   ]
  },
  {
   "cell_type": "code",
   "execution_count": 14,
   "metadata": {},
   "outputs": [
    {
     "name": "stdout",
     "output_type": "stream",
     "text": [
      "Confusion matrix:\n",
      "[[243   0]\n",
      " [ 77   0]]\n",
      "\n",
      "Classification report:\n",
      "              precision    recall  f1-score   support\n",
      "\n",
      "           0       0.76      1.00      0.86       243\n",
      "           1       0.00      0.00      0.00        77\n",
      "\n",
      "   micro avg       0.76      0.76      0.76       320\n",
      "   macro avg       0.38      0.50      0.43       320\n",
      "weighted avg       0.58      0.76      0.66       320\n",
      "\n",
      "\n"
     ]
    },
    {
     "name": "stderr",
     "output_type": "stream",
     "text": [
      "C:\\Users\\Dizotoff\\Anaconda3\\envs\\py36\\lib\\site-packages\\sklearn\\metrics\\classification.py:1143: UndefinedMetricWarning: Precision and F-score are ill-defined and being set to 0.0 in labels with no predicted samples.\n",
      "  'precision', 'predicted', average, warn_for)\n"
     ]
    }
   ],
   "source": [
    "# Calculate and print the metrics results\n",
    "from sklearn.metrics import confusion_matrix, cohen_kappa_score, classification_report\n",
    "\n",
    "cm = confusion_matrix(y_true, y_pred)\n",
    "print('Confusion matrix:')\n",
    "print(cm)\n",
    "print('')\n",
    "\n",
    "cr = classification_report(y_true, y_pred)\n",
    "print('Classification report:')\n",
    "print(cr)\n",
    "print('')"
   ]
  },
  {
   "cell_type": "code",
   "execution_count": 28,
   "metadata": {},
   "outputs": [
    {
     "name": "stdout",
     "output_type": "stream",
     "text": [
      "Accuracy: 0.6813\n"
     ]
    }
   ],
   "source": [
    "a = accuracy_score(y_true, predict > dp)\n",
    "print('Accuracy: {:.4f}'.format(a))"
   ]
  }
 ],
 "metadata": {
  "kernelspec": {
   "display_name": "Python 3",
   "language": "python",
   "name": "python3"
  },
  "language_info": {
   "codemirror_mode": {
    "name": "ipython",
    "version": 3
   },
   "file_extension": ".py",
   "mimetype": "text/x-python",
   "name": "python",
   "nbconvert_exporter": "python",
   "pygments_lexer": "ipython3",
   "version": "3.6.7"
  }
 },
 "nbformat": 4,
 "nbformat_minor": 2
}
